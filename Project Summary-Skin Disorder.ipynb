{
 "cells": [
  {
   "cell_type": "markdown",
   "id": "d6c53760",
   "metadata": {},
   "source": [
    "## Project Summary\n",
    "\n",
    "Nowadays, skin disease have become common problem in human life. It occurs almost in all groups of ages among people. It can seriously affect one's life and well-being. Machine learning plays a major role in prediction of different classes of skin diseases. \n",
    "\n",
    "We have used skin disease dataset for analyzing various machine learning algorithms to classify the different classes of skin disease. The datset file is given as an excel csv file which contains 366 records of patients' information with 34 total features which are very well defined. \"Age\" feature represents the age of patient. \"Family History\" feature shows that if perticular disease has been observed in the family, it is described in Boolean values (1 means existed & 0 means didn't exist). All other 32 features are clinical & histopathological data collected in labs. They are defined in range of 0 to 3 (here, 0 indicates that the feature was not present, 3 indicates the largest amount possible and 1 & 2 indicates the relative intermediate values). The dataset consists the data of 6 types skin disorders class. They are as follows:\n",
    "\n",
    "1. psoriasis\n",
    "2. seboreic dermatitis\n",
    "3. lichen planus\n",
    "4. pityriasis rosea\n",
    "5. cronic dermatitis\n",
    "6. pityriasis rubra pilaris\n",
    "\n",
    "Below are the main objectives for this bussiness case:\n",
    "\n",
    "1. To determine which features are impacting skin disorder classes.\n",
    "2. To create a machine learning model which will predict the available disorder with high accuracy.\n",
    "3. To perform the EDA and show the trend of the disease."
   ]
  },
  {
   "cell_type": "markdown",
   "id": "31c25195",
   "metadata": {},
   "source": [
    "# Feature Selection\n",
    "#### Feature selection is the procedure to select the features (i.e. independent variables) automatically or manually those are more significant in terms of giving expected predictions option. Feature Selection is one amongst the core concepts in machine learning which massively affects the performance of the model. PCA methode is used for feature_selection of randomforest model\n"
   ]
  },
  {
   "cell_type": "markdown",
   "id": "d48411bc",
   "metadata": {},
   "source": [
    "## Features\n",
    "- erythema                                    \n",
    "- scaling                                     \n",
    "- definite_borders                            \n",
    "- itching                                     \n",
    "- koebner_phenomenon                          \n",
    "- polygonal_papules                           \n",
    "- follicular_papules                          \n",
    "- oral_mucosal_involvement                    \n",
    "- knee_and_elbow_involvement                  \n",
    "- scalp_involvement                           \n",
    "- family_history                              \n",
    "- melanin_incontinence                        \n",
    "- eosinophils_in_the_infiltrate               \n",
    "- PNL_infiltrate                              \n",
    "- fibrosis_of_the_papillary_dermis            \n",
    "- exocytosis                                  \n",
    "- acanthosis                                  \n",
    "- hyperkeratosis                              \n",
    "- parakeratosis                               \n",
    "- clubbing_of_the_rete_ridges                 \n",
    "- elongation_of_the_rete_ridges               \n",
    "- thinning_of_the_suprapapillary_epidermis    \n",
    "- spongiform_pustule                          \n",
    "- munro_microabcess                           \n",
    "- focal_hypergranulosis                       \n",
    "- disappearance_of_the_granular_layer         \n",
    "- vacuolisation_and_damage_of_basal_layer     \n",
    "- spongiosis                                  \n",
    "- saw-tooth_appearance_of_retes               \n",
    "- follicular_horn_plug                        \n",
    "- perifollicular_parakeratosis                \n",
    "- inflammatory_monoluclear_inflitrate         \n",
    "- band-like_infiltrate                        \n",
    "- Age                                         \n",
    "- class                                       "
   ]
  },
  {
   "cell_type": "markdown",
   "id": "547a76c0",
   "metadata": {},
   "source": [
    "# Objective:1 Determine which features is impacting for a particular skin  disorder (for all classes)"
   ]
  },
  {
   "cell_type": "markdown",
   "id": "24e952f4",
   "metadata": {},
   "source": [
    "### There are six types or class of Skin Disorder Based on heatmap Graphs we have considered important features or factor which affects the perticular type of skin disorder"
   ]
  },
  {
   "cell_type": "markdown",
   "id": "e2e42a7f",
   "metadata": {},
   "source": [
    "### Factors which affects class-01 Disorder"
   ]
  },
  {
   "cell_type": "markdown",
   "id": "799e16a0",
   "metadata": {},
   "source": [
    "- Erythema\n",
    "- Scaling                                       \n",
    "- Definite_borders  \n",
    "- Follicular_papules\n",
    "- Family_history\n",
    "- Clubbing_of_the_rete_ridges \n",
    "- Thinning_of_the_suprapapillary_epidermis\n",
    "- Band-like_infiltrate"
   ]
  },
  {
   "cell_type": "markdown",
   "id": "0b8bcfd7",
   "metadata": {},
   "source": [
    "### Factors which affects class-02 Disorder"
   ]
  },
  {
   "cell_type": "markdown",
   "id": "bd991b8c",
   "metadata": {},
   "source": [
    "- Follicular_papules\n",
    "- Scaling\n",
    "- Follicular_horn_plug\n",
    "- Perifollicular_parakeratosis\n",
    "- Inflammatory_monoluclear_inflitrate\n",
    "- Band-like_infiltrate\n",
    "- Erythema\n",
    "- Elongation_of_the_rete_ridges\n",
    "- Thinning_of_the_suprapapillary_epidermis\n",
    "- Parakeratosis\n",
    "- PNL_infiltrate\n",
    "- Family_history"
   ]
  },
  {
   "cell_type": "markdown",
   "id": "5fcb7eb9",
   "metadata": {},
   "source": [
    "### Factors which affects class-03 Disorder"
   ]
  },
  {
   "cell_type": "markdown",
   "id": "abe76ff6",
   "metadata": {},
   "source": [
    "- Definite_borders\n",
    "- Scaling\n",
    "- Erythema\n",
    "- Polygonal_papules\n",
    "- Oral_mucosal_involvement\n",
    "- Scalp_involvement\n",
    "- Melanin_incontinence\n",
    "- Eosinophils_in_the_infiltrate\n",
    "- Acanthosis \n",
    "- Focal_hypergranulosis\n",
    "- Saw-tooth_appearance_of_retes\n",
    "- Follicular_horn_plug"
   ]
  },
  {
   "cell_type": "markdown",
   "id": "d4c24271",
   "metadata": {},
   "source": [
    "### Factors which affects class-04 Disorder"
   ]
  },
  {
   "cell_type": "markdown",
   "id": "15521110",
   "metadata": {},
   "source": [
    "- scaling\n",
    "- koebner_phenomenon\n",
    "- PNL_infiltrate\n",
    "- exocytosis\n",
    "- acanthosis\n",
    "- parakeratosis\n",
    "- munro_microabcess\n",
    "- saw-tooth_appearance_of_retes\n",
    "- inflammatory_monoluclear_inflitrate"
   ]
  },
  {
   "cell_type": "markdown",
   "id": "30025ea1",
   "metadata": {},
   "source": [
    "### Factors which affects class-05 Disorder"
   ]
  },
  {
   "cell_type": "markdown",
   "id": "af7399d3",
   "metadata": {},
   "source": [
    "- scaling\n",
    "- definite_borders\n",
    "- itching\n",
    "- knee_and_elbow_involvement\n",
    "- eosinophils_in_the_infiltrate\n",
    "- fibrosis_of_the_papillary_dermis\n",
    "- exocytosis\n",
    "- hyperkeratosis\n",
    "- thinning_of_the_suprapapillary_epidermis\n",
    "- spongiform_pustule"
   ]
  },
  {
   "cell_type": "markdown",
   "id": "63778d41",
   "metadata": {},
   "source": [
    "### Factors which affects class-06 Disorder"
   ]
  },
  {
   "cell_type": "markdown",
   "id": "54c3d408",
   "metadata": {},
   "source": [
    "- scaling\n",
    "- follicular_papules\n",
    "- knee_and_elbow_involvement\n",
    "- scalp_involvement\n",
    "- PNL_infiltrate\n",
    "- acanthosis\n",
    "- parakeratosis\n",
    "- clubbing_of_the_rete_ridges\n",
    "- focal_hypergranulosis\n",
    "- spongiosis\n",
    "- inflammatory_monoluclear_inflitrate"
   ]
  },
  {
   "cell_type": "markdown",
   "id": "dc534b4d",
   "metadata": {},
   "source": [
    "# Objective:2 Create a machine learning model which will predict the disorder   available."
   ]
  },
  {
   "cell_type": "markdown",
   "id": "f8af87a6",
   "metadata": {},
   "source": [
    "# Machine Learning Model\n",
    "\n",
    "### The machine learning models used in this project are\n",
    "\n",
    "1. K-Nearest Neighbour\n",
    "\n",
    "   K-Nearest Neighbour is a supervised learning algorithm that can be used for both classification and regression problems. This algorithm works by assuming the similarities between the new data point and available data points. Based on these similarities, the new data points are put in the most similar categories. It is also known as the lazy learner algorithm as it stores all the available datasets and classifies each new case with the help of K-neighbours. The new case is assigned to the nearest class with most similarities, and any distance function measures the distance between the data points.\n",
    "\n",
    "2. Support Vector Machine (classifier)\n",
    "\n",
    "    A support vector machine or SVM is a supervised learning algorithm that can also be used for classification and regression problems. However, it is primarily used for classification problems. The goal of SVM is to create a hyperplane or decision boundary that can segregate datasets into different classes.\n",
    "   The data points that help to define the hyperplane are known as support vectors, and hence it is named as support vector machine algorithm.\n",
    "\n",
    "3. Random Forest (Classifier)\n",
    "\n",
    "   Random Forest is an ensemble learning based regression model. It uses a model called decision tree, specifically as the name suggests, multiple decision trees to generate the ensemble model which collectively produces a prediction. The benefit of this model is that the trees are produced in parallel and are relatively uncorrelated, thus producing good results as each tree is not prone to individual errors of other trees.\n",
    "\n",
    "   All these machine learning algorithms are best for classification problem. The train and test data are divided into 80:20 ratio and fitted into the model and passed through the machine learning. The dataset here used is including All outliers of Predictor and Target variables."
   ]
  },
  {
   "cell_type": "markdown",
   "id": "7301b518",
   "metadata": {},
   "source": [
    "### The predicted data and test data achieved the accuracy rate of\n",
    "#### 1. K-Nearest Neighbour with cross_val score  - 0.87725\n",
    "#### 2. Support Vector Machine (Classifier) with cross_val score - 0.72965\n",
    "#### 3. Random Forest (Classifier) with cross_val score -  0.980855¶\n",
    "#### 4. Random Forest (Classifier) with PCA & cross_val score- 0.9726667¶"
   ]
  },
  {
   "cell_type": "markdown",
   "id": "fddb511b",
   "metadata": {},
   "source": [
    "# objective :3 Perform the EDA and show the trend of the disease."
   ]
  },
  {
   "cell_type": "code",
   "execution_count": null,
   "id": "8ad5c6e7",
   "metadata": {},
   "outputs": [],
   "source": []
  },
  {
   "cell_type": "code",
   "execution_count": null,
   "id": "19819073",
   "metadata": {},
   "outputs": [],
   "source": []
  },
  {
   "cell_type": "code",
   "execution_count": null,
   "id": "4ae583eb",
   "metadata": {},
   "outputs": [],
   "source": []
  },
  {
   "cell_type": "code",
   "execution_count": null,
   "id": "0ea35e4c",
   "metadata": {},
   "outputs": [],
   "source": []
  },
  {
   "cell_type": "code",
   "execution_count": null,
   "id": "3a6947d2",
   "metadata": {},
   "outputs": [],
   "source": []
  },
  {
   "cell_type": "code",
   "execution_count": null,
   "id": "96d4a9df",
   "metadata": {},
   "outputs": [],
   "source": []
  }
 ],
 "metadata": {
  "kernelspec": {
   "display_name": "Python 3",
   "language": "python",
   "name": "python3"
  },
  "language_info": {
   "codemirror_mode": {
    "name": "ipython",
    "version": 3
   },
   "file_extension": ".py",
   "mimetype": "text/x-python",
   "name": "python",
   "nbconvert_exporter": "python",
   "pygments_lexer": "ipython3",
   "version": "3.8.8"
  }
 },
 "nbformat": 4,
 "nbformat_minor": 5
}
